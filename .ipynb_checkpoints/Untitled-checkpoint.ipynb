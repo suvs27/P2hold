{
 "cells": [
  {
   "cell_type": "code",
   "execution_count": null,
   "metadata": {},
   "outputs": [],
   "source": [
    "# Import the Pandas library\n",
    "# Importing the CSV Data for June\n",
    "import pandas as pd\n",
    "import numpy as np\n",
    "\n",
    "# Create a reference the CSV file desired\n",
    "csv_path = \"NNDSS_-_TABLE_1V._Malaria_to_Measles__Imported.csv\"\n",
    "\n",
    "# Read the CSV into a Pandas DataFrame\n",
    "table = pd.read_csv(csv_path)\n",
    "\n",
    "table.columns"
   ]
  }
 ],
 "metadata": {
  "kernelspec": {
   "display_name": "Python 3",
   "language": "python",
   "name": "python3"
  },
  "language_info": {
   "codemirror_mode": {
    "name": "ipython",
    "version": 3
   },
   "file_extension": ".py",
   "mimetype": "text/x-python",
   "name": "python",
   "nbconvert_exporter": "python",
   "pygments_lexer": "ipython3",
   "version": "3.7.3"
  }
 },
 "nbformat": 4,
 "nbformat_minor": 2
}
